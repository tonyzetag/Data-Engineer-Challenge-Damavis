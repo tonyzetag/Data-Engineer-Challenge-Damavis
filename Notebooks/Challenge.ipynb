{
 "cells": [
  {
   "cell_type": "markdown",
   "id": "8abb3fa7",
   "metadata": {},
   "source": [
    "# Damavis Challenge"
   ]
  },
  {
   "cell_type": "code",
   "execution_count": 1,
   "id": "118d952d",
   "metadata": {},
   "outputs": [],
   "source": [
    "# In this case, i will import numpy to use arrays (althougt i know i can import array)\n",
    "import numpy as np"
   ]
  },
  {
   "cell_type": "code",
   "execution_count": 2,
   "id": "80b575dd",
   "metadata": {},
   "outputs": [],
   "source": [
    "class Board:\n",
    "    \n",
    "    def __init__(self, n, m):\n",
    "        assert n == int(n), \"n must be int\"\n",
    "        assert m == int(m), \"m must be int\"\n",
    "        assert n >= 1 and n <=10, \"1 ≤ n ≤ 10\"\n",
    "        assert m >= 1 and m <=10, \"1 ≤ m ≤ 10\"\n",
    "\n",
    "        self.n = n\n",
    "        self.m = m\n",
    "        \n",
    "    def to_array(self):\n",
    "        return np.array([self.n, self.m], dtype=np.int8)  \n",
    "    \n",
    "    def Snake(self, *args):\n",
    "        self.snake = self.Inner_Snake(*args, board=self.to_array())\n",
    "        \n",
    "    def Depth(self, n):\n",
    "        self.depth = self.Inner_Depth(n)\n",
    "        \n",
    "    def start(self):\n",
    "        # All Paths in Board\n",
    "        paths_in_board = set((n,m) for n in range(self.n) for m in range(self.m))\n",
    "        \n",
    "        # Paths ocupated by Snake\n",
    "        paths_ocupated = [(n[0], n[1]) for n in self.snake.args]\n",
    "        \n",
    "        # Head and tail\n",
    "        path_head = np.array([self.snake.args[0]])\n",
    "        path_tail = np.array(self.snake.args[-1])\n",
    "        \n",
    "        snakes = []\n",
    "        snakes.append(paths_ocupated)\n",
    "        mov = np.array([[1,0], [-1,0], [0,1], [0,-1]])\n",
    "        total = 0\n",
    "        \n",
    "        for n in range(self.depth.n):\n",
    "            new_snakes = []\n",
    "            for snake in snakes:\n",
    "                # Adjacents\n",
    "                path_new = set((element[0], element[1]) for element in snake[0] + mov)\n",
    "\n",
    "                # Inside the board\n",
    "                path_new = set.intersection(path_new, paths_in_board)\n",
    "\n",
    "                # Not ocupated (update tail before)\n",
    "                path_new = set.difference(path_new, set((element[0], element[1]) for element in snake[:-1]))\n",
    "                \n",
    "                # New snakes\n",
    "                for new in path_new:\n",
    "                    new_snake = snake.copy()\n",
    "                    new_snake.pop()\n",
    "                    new_snake.insert(0, new)\n",
    "                    new_snakes.append(new_snake)  \n",
    "                    \n",
    "            snakes = new_snakes.copy()\n",
    "        \n",
    "        print(f\"numberOfAvailableDifferentPaths({(self.n, self.m)}, {self.snake.args}, {self.depth.n}) = {len(snakes)}\")\n",
    "    \n",
    "    class Inner_Snake:\n",
    "\n",
    "        def __init__(self, *args, board):\n",
    "            self.args = [*args]\n",
    "            \n",
    "            # 3 ≤ snake.length ≤ 7\n",
    "            assert len(args) >= 3 and len(args) <= 7, \"3 ≤ snake.length ≤ 7\"\n",
    "\n",
    "            # snake[i].length = 2\n",
    "            for idx, coor in enumerate(args):\n",
    "                # snake[i].length = 2\n",
    "                assert len(coor) == 2, \"snake[i].length = 2\"\n",
    "\n",
    "                # horizontally or vertically adjacent\n",
    "                if idx < len(args) - 1:\n",
    "                    assert abs(args[idx][0] - args[idx+1][0]) in [0,1], \"Snake body must be horizontally adjacent\" # H\n",
    "                    assert abs(args[idx][1] - args[idx+1][1]) in [0,1], \"Snake body must be vertically adjacent\" # V\n",
    "                    assert abs(args[idx][0] - args[idx+1][0] + args[idx][1] - args[idx+1][1]) == 1, \"Snake body must be adjacent\"\n",
    "                \n",
    "                # 0 ≤ snake[i][j] < board[j].\n",
    "                assert (coor[0] < board[0] and \n",
    "                        coor[1] < board[1] and\n",
    "                        coor[0] >= 0 and\n",
    "                        coor[1] >= 0), \"Snake have to stay inside the board, limit exceed\"\n",
    "                \n",
    "    class Inner_Depth:\n",
    "        \n",
    "        def __init__(self, n):\n",
    "            assert n == int(n), \"n must be int\"\n",
    "            assert 0 <= n <= 20, \"Path must be 0 <= n <= 20\"\n",
    "            \n",
    "            self.n = n\n",
    "        "
   ]
  },
  {
   "cell_type": "code",
   "execution_count": 3,
   "id": "3d24488f",
   "metadata": {},
   "outputs": [
    {
     "name": "stdout",
     "output_type": "stream",
     "text": [
      "numberOfAvailableDifferentPaths((4, 3), [[2, 2], [3, 2], [3, 1], [3, 0], [2, 0], [1, 0], [0, 0]], 3) = 7\n"
     ]
    }
   ],
   "source": [
    "game = Board(4, 3)\n",
    "game.Snake([2, 2], [3, 2], [3, 1], [3, 0], [2, 0], [1, 0], [0, 0])\n",
    "game.Depth(3)\n",
    "game.start()"
   ]
  },
  {
   "cell_type": "code",
   "execution_count": 4,
   "id": "05374123",
   "metadata": {},
   "outputs": [
    {
     "name": "stdout",
     "output_type": "stream",
     "text": [
      "numberOfAvailableDifferentPaths((2, 3), [[0, 2], [0, 1], [0, 0], [1, 0], [1, 1], [1, 2]], 10) = 1\n"
     ]
    }
   ],
   "source": [
    "game = Board(2, 3)\n",
    "game.Snake([0, 2], [0, 1], [0, 0], [1, 0], [1, 1], [1, 2])\n",
    "game.Depth(10)\n",
    "game.start()"
   ]
  },
  {
   "cell_type": "code",
   "execution_count": 5,
   "id": "16809f2c",
   "metadata": {},
   "outputs": [
    {
     "name": "stdout",
     "output_type": "stream",
     "text": [
      "numberOfAvailableDifferentPaths((10, 10), [[5, 5], [5, 4], [4, 4], [4, 5]], 4) = 81\n"
     ]
    }
   ],
   "source": [
    "game = Board(10, 10)\n",
    "game.Snake([5, 5], [5, 4], [4, 4], [4, 5])\n",
    "game.Depth(4)\n",
    "game.start()"
   ]
  },
  {
   "cell_type": "code",
   "execution_count": null,
   "id": "77c1256f",
   "metadata": {},
   "outputs": [],
   "source": []
  }
 ],
 "metadata": {
  "kernelspec": {
   "display_name": "Python 3 (ipykernel)",
   "language": "python",
   "name": "python3"
  },
  "language_info": {
   "codemirror_mode": {
    "name": "ipython",
    "version": 3
   },
   "file_extension": ".py",
   "mimetype": "text/x-python",
   "name": "python",
   "nbconvert_exporter": "python",
   "pygments_lexer": "ipython3",
   "version": "3.9.2"
  }
 },
 "nbformat": 4,
 "nbformat_minor": 5
}
